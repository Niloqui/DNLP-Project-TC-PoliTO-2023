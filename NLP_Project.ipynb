{
  "nbformat": 4,
  "nbformat_minor": 0,
  "metadata": {
    "colab": {
      "provenance": [],
      "collapsed_sections": [
        "bAIKFPsTd4yl",
        "fxyOoDBxQdpg"
      ]
    },
    "kernelspec": {
      "name": "python3",
      "display_name": "Python 3"
    },
    "language_info": {
      "name": "python"
    },
    "gpuClass": "standard"
  },
  "cells": [
    {
      "cell_type": "markdown",
      "source": [
        "#**Preliminary steps**"
      ],
      "metadata": {
        "id": "sblelV-3d43T"
      }
    },
    {
      "cell_type": "markdown",
      "source": [
        "##Installing Conda"
      ],
      "metadata": {
        "id": "T3JQFmJTPl3_"
      }
    },
    {
      "cell_type": "code",
      "source": [
        "!conda --version"
      ],
      "metadata": {
        "colab": {
          "base_uri": "https://localhost:8080/"
        },
        "id": "lBKAzFVTPjuA",
        "outputId": "5463843d-2e3f-463a-fa55-c8bb69637401"
      },
      "execution_count": 1,
      "outputs": [
        {
          "output_type": "stream",
          "name": "stdout",
          "text": [
            "/bin/bash: conda: command not found\n"
          ]
        }
      ]
    },
    {
      "cell_type": "code",
      "source": [
        "!pip install condacolab"
      ],
      "metadata": {
        "colab": {
          "base_uri": "https://localhost:8080/"
        },
        "id": "YQbPYGEyQOh2",
        "outputId": "13adbad1-0924-41e0-9d0a-7de53c9e614b"
      },
      "execution_count": 2,
      "outputs": [
        {
          "output_type": "stream",
          "name": "stdout",
          "text": [
            "Looking in indexes: https://pypi.org/simple, https://us-python.pkg.dev/colab-wheels/public/simple/\n",
            "Collecting condacolab\n",
            "  Downloading condacolab-0.1.5-py3-none-any.whl (6.8 kB)\n",
            "Installing collected packages: condacolab\n",
            "Successfully installed condacolab-0.1.5\n"
          ]
        }
      ]
    },
    {
      "cell_type": "code",
      "source": [
        "# The kernel will restart after executing this cell\n",
        "import condacolab\n",
        "condacolab.install()"
      ],
      "metadata": {
        "colab": {
          "base_uri": "https://localhost:8080/"
        },
        "id": "UefFwx4VPjq-",
        "outputId": "c588f093-59ba-46de-bf25-c61ed0d334ec"
      },
      "execution_count": 3,
      "outputs": [
        {
          "output_type": "stream",
          "name": "stdout",
          "text": [
            "⏬ Downloading https://github.com/jaimergp/miniforge/releases/latest/download/Mambaforge-colab-Linux-x86_64.sh...\n",
            "📦 Installing...\n",
            "📌 Adjusting configuration...\n",
            "🩹 Patching environment...\n",
            "⏲ Done in 0:00:41\n",
            "🔁 Restarting kernel...\n"
          ]
        }
      ]
    },
    {
      "cell_type": "code",
      "source": [
        "%%capture\n",
        "!conda update -n base -c conda-forge conda\n",
        "!conda install openmm"
      ],
      "metadata": {
        "id": "O0ShQcAsgM3B"
      },
      "execution_count": 1,
      "outputs": []
    },
    {
      "cell_type": "code",
      "source": [
        "!conda --version"
      ],
      "metadata": {
        "colab": {
          "base_uri": "https://localhost:8080/"
        },
        "id": "SeYQMmGkP90n",
        "outputId": "f0fcadd1-ce16-48b4-db9e-e492e09a7a7f"
      },
      "execution_count": 2,
      "outputs": [
        {
          "output_type": "stream",
          "name": "stdout",
          "text": [
            "conda 22.11.1\n"
          ]
        }
      ]
    },
    {
      "cell_type": "markdown",
      "source": [
        "##Cloning the repository"
      ],
      "metadata": {
        "id": "1v2rMyPUQu03"
      }
    },
    {
      "cell_type": "code",
      "source": [
        "%%capture\n",
        "!git clone https://github.com/allenai/scidocs.git\n",
        "!git clone https://github.com/allenai/specter"
      ],
      "metadata": {
        "id": "7DDXidNgQTw7"
      },
      "execution_count": 3,
      "outputs": []
    },
    {
      "cell_type": "markdown",
      "source": [
        "##Creating virtual environment and installing libraries"
      ],
      "metadata": {
        "id": "KPcewbwPRBGW"
      }
    },
    {
      "cell_type": "code",
      "source": [
        "import time\n",
        "import datetime\n",
        "from math import floor"
      ],
      "metadata": {
        "id": "Wxl9S2_5kJaU"
      },
      "execution_count": 4,
      "outputs": []
    },
    {
      "cell_type": "code",
      "source": [
        "%%capture\n",
        "\n",
        "start = time.time()\n",
        "\n",
        "!conda create -y --name scidocs python==3.7\n",
        "!conda init bash\n",
        "!conda activate scidocs\n",
        "\n",
        "!pip install pytrec_eval 'awscli<1.18.84' allennlp==0.9 overrides==3.1.0\n",
        "\n",
        "# To avoid compatibility problems among the libraries, we take the most updated version of each library before 2020-06-18 (Last commit in scidocs repository)\n",
        "#!conda install -y -q -c conda-forge numpy pandas scikit-learn=0.22.2 jsonlines tqdm sklearn-contrib-lightning pytorch\n",
        "!conda install -y -q -c conda-forge \\\n",
        "    'numpy<1.19.0' \\\n",
        "    'pandas<1.1.0' \\\n",
        "    'scikit-learn=0.22.2' \\\n",
        "    'jsonlines<2.0' \\\n",
        "    tqdm \\\n",
        "    'sklearn-contrib-lightning<0.6' \\\n",
        "    'pytorch<1.8.0'\n",
        "    #'pytorch<1.6.0' # This version cannot be found by conda, so we install a newer version that is compatible with the rest of the libraries\n",
        "\n",
        "!pip install torch==1.12.1+cu113 torchvision==0.13.1+cu113 torchaudio --extra-index-url https://download.pytorch.org/whl/cu113\n",
        "!pip install --upgrade transformers==4.2\n",
        "\n",
        "end = time.time()"
      ],
      "metadata": {
        "id": "DuojDxN9P9-N"
      },
      "execution_count": 5,
      "outputs": []
    },
    {
      "cell_type": "code",
      "source": [
        "print(f\"Time required to install all the libraries: {datetime.timedelta(seconds=floor(end-start))}\")"
      ],
      "metadata": {
        "id": "tP-Tk2S7P9-O",
        "colab": {
          "base_uri": "https://localhost:8080/"
        },
        "outputId": "b7281d36-83ea-4212-88b4-58e75ec17bf8"
      },
      "execution_count": 6,
      "outputs": [
        {
          "output_type": "stream",
          "name": "stdout",
          "text": [
            "Time required to install all the libraries: 0:31:48\n"
          ]
        }
      ]
    },
    {
      "cell_type": "code",
      "source": [
        "# Restarting runtime\n",
        "exit()"
      ],
      "metadata": {
        "id": "vKvzrC60fCsg"
      },
      "execution_count": 7,
      "outputs": []
    },
    {
      "cell_type": "code",
      "source": [
        "import time\n",
        "import datetime\n",
        "from math import floor"
      ],
      "metadata": {
        "id": "-RsD12AAk23u"
      },
      "execution_count": 1,
      "outputs": []
    },
    {
      "cell_type": "markdown",
      "source": [
        "##Downloading data"
      ],
      "metadata": {
        "id": "c7QVGjnKd404"
      }
    },
    {
      "cell_type": "code",
      "source": [
        "%%capture\n",
        "!aws s3 sync --no-sign-request s3://ai2-s2-research-public/specter/scidocs/ data/\n",
        "!pip install /content/scidocs/"
      ],
      "metadata": {
        "id": "1rVY8xHnd5RY"
      },
      "execution_count": 2,
      "outputs": []
    },
    {
      "cell_type": "code",
      "source": [
        "# Adding ./scidocs/ to path so python can import libraries from this forlder\n",
        "# path[0] is reserved for script path (or '' in REPL)\n",
        "\n",
        "import sys\n",
        "sys.path.insert(1, './scidocs/')"
      ],
      "metadata": {
        "id": "pDxAtWsjd6HO"
      },
      "execution_count": 3,
      "outputs": []
    },
    {
      "cell_type": "markdown",
      "source": [
        "##Check if GPU is available"
      ],
      "metadata": {
        "id": "A-Wj_YUmhH7D"
      }
    },
    {
      "cell_type": "code",
      "source": [
        "import torch\n",
        "\n",
        "if torch.cuda.is_available():\n",
        "    print(\"GPU is available\")\n",
        "    device = 0\n",
        "else:\n",
        "    print(\"GPU is NOT available\")\n",
        "    device = -1\n",
        "\n",
        "print(device)"
      ],
      "metadata": {
        "id": "Mx6qLqDGhIQd",
        "colab": {
          "base_uri": "https://localhost:8080/"
        },
        "outputId": "465d75de-c57e-46d1-d880-cbb1bffd73d2"
      },
      "execution_count": 4,
      "outputs": [
        {
          "output_type": "stream",
          "name": "stdout",
          "text": [
            "GPU is NOT available\n",
            "-1\n"
          ]
        }
      ]
    },
    {
      "cell_type": "markdown",
      "source": [
        "#**Reproducing results (SciDocs repository)**"
      ],
      "metadata": {
        "id": "bAIKFPsTd4yl"
      }
    },
    {
      "cell_type": "code",
      "source": [
        "from pprint import pprint\n",
        "\n",
        "repository_results = {\n",
        "    'mag': {'f1': 81.95},\n",
        "    \"mesh\": {\"f1\": 86.44},\n",
        "    \"co-view\": {\"map\": 83.63, \"ndcg\": 91.5},\n",
        "    \"co-read\": {\"map\": 84.46, \"ndcg\": 92.39},\n",
        "    \"cite\": {\"map\": 88.3, \"ndcg\": 94.88},\n",
        "    \"co-cite\": {\"map\": 88.11, \"ndcg\": 94.77},\n",
        "    \"recomm\": {\"adj-NDCG\": 53.9, \"adj-P@1\": 20}\n",
        "}"
      ],
      "metadata": {
        "id": "Pnd9VwyVOjxk"
      },
      "execution_count": null,
      "outputs": []
    },
    {
      "cell_type": "code",
      "source": [
        "%%capture\n",
        "from scidocs import get_scidocs_metrics\n",
        "from scidocs.paths import DataPaths"
      ],
      "metadata": {
        "id": "RWaX_byIYmbq"
      },
      "execution_count": null,
      "outputs": []
    },
    {
      "cell_type": "code",
      "source": [
        "# Custom scidocs class with all the paths for every file in the dataset\n",
        "data_paths = DataPaths()\n",
        "\n",
        "# Embeddings jsonl files\n",
        "classification_embeddings_path = 'data/specter-embeddings/cls.jsonl'\n",
        "user_activity_and_citations_embeddings_path = 'data/specter-embeddings/user-citation.jsonl'\n",
        "recomm_embeddings_path = 'data/specter-embeddings/recomm.jsonl'"
      ],
      "metadata": {
        "id": "275qMBpgkCGi"
      },
      "execution_count": null,
      "outputs": []
    },
    {
      "cell_type": "code",
      "source": [
        "start = time.time()\n",
        "\n",
        "# Scidocs evaluation\n",
        "scidocs_metrics = get_scidocs_metrics(\n",
        "    data_paths,\n",
        "    classification_embeddings_path,\n",
        "    user_activity_and_citations_embeddings_path,\n",
        "    recomm_embeddings_path,\n",
        "    val_or_test='test',  # set to 'val' if tuning hyperparams\n",
        "    n_jobs=12,  # the classification tasks can be parallelized\n",
        "    cuda_device=device  # the recomm task can use a GPU if this is set to 0, 1, etc\n",
        ")\n",
        "\n",
        "end = time.time()"
      ],
      "metadata": {
        "id": "orYAP37Kud1t",
        "colab": {
          "base_uri": "https://localhost:8080/"
        },
        "outputId": "0156c1e5-35b7-4e3b-e755-f2ab4f3d3fa4"
      },
      "execution_count": null,
      "outputs": [
        {
          "output_type": "stream",
          "name": "stdout",
          "text": [
            "Loading MAG/MeSH embeddings...\n"
          ]
        },
        {
          "output_type": "stream",
          "name": "stderr",
          "text": [
            "reading embeddings from file...: 48473it [00:35, 1349.09it/s]\n"
          ]
        },
        {
          "output_type": "stream",
          "name": "stdout",
          "text": [
            "Running the MAG task...\n",
            "Fitting 3 folds for each of 7 candidates, totalling 21 fits\n"
          ]
        },
        {
          "output_type": "stream",
          "name": "stderr",
          "text": [
            "[Parallel(n_jobs=12)]: Using backend LokyBackend with 12 concurrent workers.\n",
            "[Parallel(n_jobs=12)]: Done  21 out of  21 | elapsed: 10.1min finished\n"
          ]
        },
        {
          "output_type": "stream",
          "name": "stdout",
          "text": [
            "Running the MeSH task...\n",
            "Fitting 3 folds for each of 7 candidates, totalling 21 fits\n"
          ]
        },
        {
          "output_type": "stream",
          "name": "stderr",
          "text": [
            "[Parallel(n_jobs=12)]: Using backend LokyBackend with 12 concurrent workers.\n",
            "[Parallel(n_jobs=12)]: Done  21 out of  21 | elapsed:  7.5min finished\n"
          ]
        },
        {
          "output_type": "stream",
          "name": "stdout",
          "text": [
            "Loading co-view, co-read, cite, and co-cite embeddings...\n"
          ]
        },
        {
          "output_type": "stream",
          "name": "stderr",
          "text": [
            "reading embeddings from file...: 142009it [01:14, 1912.67it/s]\n"
          ]
        },
        {
          "output_type": "stream",
          "name": "stdout",
          "text": [
            "Running the co-view, co-read, cite, and co-cite tasks...\n",
            "Loading recomm embeddings...\n",
            "Running the recomm task...\n",
            "Testing on 1000 examples.\n"
          ]
        },
        {
          "output_type": "stream",
          "name": "stderr",
          "text": [
            "100%|██████████| 1000/1000 [00:45<00:00, 21.86it/s]\n"
          ]
        }
      ]
    },
    {
      "cell_type": "code",
      "source": [
        "print(\"These two dictionaries should be identical (except 'recomm' due to a lack of PyTorch reproducibility)\\n\")\n",
        "\n",
        "print(\"Results got in this notebook\")\n",
        "pprint(scidocs_metrics)\n",
        "\n",
        "print(\"\\nResults of last row of Table 1 in the SPECTER paper\")\n",
        "pprint(repository_results)\n",
        "\n",
        "print(f\"\\n\\nTime required to compute the metrics: {datetime.timedelta(seconds=floor(end-start))}\")"
      ],
      "metadata": {
        "colab": {
          "base_uri": "https://localhost:8080/"
        },
        "id": "jz5_COHlxiIG",
        "outputId": "8b8ddf21-2a52-4acd-9e08-7c82d293aff5"
      },
      "execution_count": null,
      "outputs": [
        {
          "output_type": "stream",
          "name": "stdout",
          "text": [
            "These two dictionaries should be identical (except 'recomm' due to a lack of PyTorch reproducibility)\n",
            "\n",
            "Results got in this notebook\n",
            "{'cite': {'map': 88.3, 'ndcg': 94.88},\n",
            " 'co-cite': {'map': 88.11, 'ndcg': 94.77},\n",
            " 'co-read': {'map': 84.46, 'ndcg': 92.39},\n",
            " 'co-view': {'map': 83.63, 'ndcg': 91.5},\n",
            " 'mag': {'f1': 81.95},\n",
            " 'mesh': {'f1': 86.44},\n",
            " 'recomm': {'adj-NDCG': 53.88, 'adj-P@1': 20.01}}\n",
            "\n",
            "Results of last row of Table 1 in the SPECTER paper\n",
            "{'cite': {'map': 88.3, 'ndcg': 94.88},\n",
            " 'co-cite': {'map': 88.11, 'ndcg': 94.77},\n",
            " 'co-read': {'map': 84.46, 'ndcg': 92.39},\n",
            " 'co-view': {'map': 83.63, 'ndcg': 91.5},\n",
            " 'mag': {'f1': 81.95},\n",
            " 'mesh': {'f1': 86.44},\n",
            " 'recomm': {'adj-NDCG': 53.9, 'adj-P@1': 20}}\n",
            "\n",
            "\n",
            "Time required to compute the metrics: 0:25:55\n"
          ]
        }
      ]
    },
    {
      "cell_type": "markdown",
      "source": [
        "#**Reproducing results (Huggingface)**"
      ],
      "metadata": {
        "id": "fxyOoDBxQdpg"
      }
    },
    {
      "cell_type": "markdown",
      "source": [
        "##Embedding the documents"
      ],
      "metadata": {
        "id": "VRsPvemMnGmW"
      }
    },
    {
      "cell_type": "code",
      "source": [
        "%%capture\n",
        "# Downloading the model\n",
        "\n",
        "from transformers import AutoTokenizer, AutoModel\n",
        "\n",
        "# Executing this line to download the model\n",
        "tokenizer = AutoTokenizer.from_pretrained('allenai/specter')\n",
        "model = AutoModel.from_pretrained('allenai/specter')\n"
      ],
      "metadata": {
        "id": "m0p-DkBLOisA"
      },
      "execution_count": null,
      "outputs": []
    },
    {
      "cell_type": "code",
      "source": [
        "import json\n",
        "\n",
        "start = time.time()\n",
        "\n",
        "# This file is to big for Colab, so we need to split it\n",
        "f = open(\"./data/paper_metadata_view_cite_read.json\")\n",
        "dic = json.load(f)\n",
        "f.close()\n",
        "\n",
        "dic_part1 = {}\n",
        "dic_part2 = {}\n",
        "\n",
        "mid_index = len(dic.keys()) / 2\n",
        "\n",
        "for i, k in enumerate(dic.keys()):\n",
        "    val = dic[k] \n",
        "    \n",
        "    if i < mid_index:\n",
        "        dic_part1[k] = val\n",
        "    else:\n",
        "        dic_part2[k] = val\n",
        "\n",
        "f = open(\"./data/paper_metadata_view_cite_read_part1.json\", \"w\")\n",
        "json.dump(dic_part1, f)\n",
        "f.close()\n",
        "\n",
        "f = open(\"./data/paper_metadata_view_cite_read_part2.json\", \"w\")\n",
        "json.dump(dic_part2, f)\n",
        "f.close()\n",
        "\n",
        "end = time.time()\n",
        "print(f\"Time required to divide the view-cite-read file: {datetime.timedelta(seconds=floor(end-start))}\")"
      ],
      "metadata": {
        "id": "KGYxhg7ZlfGi",
        "colab": {
          "base_uri": "https://localhost:8080/"
        },
        "outputId": "8fdf03c1-c8c3-4ee5-c269-a1a7eb25b334"
      },
      "execution_count": null,
      "outputs": [
        {
          "output_type": "stream",
          "name": "stdout",
          "text": [
            "Time required to divide the view-cite-read file: 0:00:40\n"
          ]
        }
      ]
    },
    {
      "cell_type": "code",
      "source": [
        "# Cleaning memory\n",
        "del f, dic, dic_part1, dic_part2, mid_index, i, k, val"
      ],
      "metadata": {
        "id": "Q9Q32W3tma6F"
      },
      "execution_count": null,
      "outputs": []
    },
    {
      "cell_type": "code",
      "source": [
        "start = time.time()\n",
        "\n",
        "path_to_paper_metadata = \"./data/paper_metadata_view_cite_read_part1.json\"\n",
        "mag_mesh_output_file_path = \"view_cite_hugging_embeddings_part1.jsonl\"\n",
        "\n",
        "!CUDA_VISIBLE_DEVICES={device} python specter/scripts/embed_papers_hf.py \\\n",
        "    --data-path {path_to_paper_metadata} \\\n",
        "    --output {mag_mesh_output_file_path} \\\n",
        "    --batch-size 8\n",
        "\n",
        "path_to_paper_metadata = \"./data/paper_metadata_view_cite_read_part2.json\"\n",
        "mag_mesh_output_file_path = \"view_cite_hugging_embeddings_part2.jsonl\"\n",
        "\n",
        "!CUDA_VISIBLE_DEVICES={device} python specter/scripts/embed_papers_hf.py \\\n",
        "    --data-path {path_to_paper_metadata} \\\n",
        "    --output {mag_mesh_output_file_path} \\\n",
        "    --batch-size 8\n",
        "\n",
        "end = time.time()\n",
        "print(f\"\\nTime required to embed the view-cite-read files: {datetime.timedelta(seconds=floor(end-start))}\")"
      ],
      "metadata": {
        "colab": {
          "base_uri": "https://localhost:8080/"
        },
        "id": "-tyLCJM6h79k",
        "outputId": "d8252a78-1a3a-4759-8b4c-5016add2f026"
      },
      "execution_count": null,
      "outputs": [
        {
          "output_type": "stream",
          "name": "stdout",
          "text": [
            "8876it [30:36,  4.83it/s]\n",
            "8876it [32:58,  4.49it/s]              \n",
            "\n",
            "Time required to embed the view-cite-read files: 1:06:10\n"
          ]
        }
      ]
    },
    {
      "cell_type": "code",
      "source": [
        "# We must merge the two parts that we divided before\n",
        "import jsonlines\n",
        "\n",
        "start = time.time()\n",
        "\n",
        "view_cite_output_file_path = \"view_cite_hugging_embeddings.jsonl\"\n",
        "merged_output = jsonlines.open(view_cite_output_file_path, mode='w')\n",
        "\n",
        "reader = jsonlines.open(\"./view_cite_hugging_embeddings_part1.jsonl\")\n",
        "merged_output.write_all(reader)\n",
        "reader.close()\n",
        "\n",
        "reader = jsonlines.open(\"./view_cite_hugging_embeddings_part2.jsonl\")\n",
        "merged_output.write_all(reader)\n",
        "reader.close()\n",
        "\n",
        "merged_output.close()\n",
        "\n",
        "end = time.time()\n",
        "print(f\"Time required to merge the view-cite-read files: {datetime.timedelta(seconds=floor(end-start))}\")"
      ],
      "metadata": {
        "id": "pb0BF59Wn_KR",
        "colab": {
          "base_uri": "https://localhost:8080/"
        },
        "outputId": "6726bce6-2dc2-4337-c256-ba48f8a34c4b"
      },
      "execution_count": null,
      "outputs": [
        {
          "output_type": "stream",
          "name": "stdout",
          "text": [
            "Time required to merge the view-cite-read files: 0:03:00\n"
          ]
        }
      ]
    },
    {
      "cell_type": "code",
      "source": [
        "start = time.time()\n",
        "\n",
        "path_to_paper_metadata = \"./data/paper_metadata_mag_mesh.json\"\n",
        "mag_mesh_output_file_path = \"mag_mesh_hugging_embeddings.jsonl\"\n",
        "\n",
        "!CUDA_VISIBLE_DEVICES={device} python specter/scripts/embed_papers_hf.py \\\n",
        "    --data-path {path_to_paper_metadata} \\\n",
        "    --output {mag_mesh_output_file_path} \\\n",
        "    --batch-size 8\n",
        "\n",
        "end = time.time()\n",
        "print(f\"\\nTime required to embed the MAG-MeSH file: {datetime.timedelta(seconds=floor(end-start))}\")"
      ],
      "metadata": {
        "id": "P1Py5AXUjvSK",
        "colab": {
          "base_uri": "https://localhost:8080/"
        },
        "outputId": "afa16f86-0cce-4a12-ca0e-450605d4b62c"
      },
      "execution_count": null,
      "outputs": [
        {
          "output_type": "stream",
          "name": "stdout",
          "text": [
            "6060it [23:34,  4.28it/s]              \n",
            "\n",
            "Time required to embed the MAG-MeSH file: 0:24:29\n"
          ]
        }
      ]
    },
    {
      "cell_type": "code",
      "source": [
        "start = time.time()\n",
        "\n",
        "path_to_paper_metadata = \"./data/paper_metadata_recomm.json\"\n",
        "recom_output_file_path = \"recomm_hugging_embeddings.jsonl\"\n",
        "\n",
        "!CUDA_VISIBLE_DEVICES={device} python specter/scripts/embed_papers_hf.py \\\n",
        "    --data-path {path_to_paper_metadata} \\\n",
        "    --output {recom_output_file_path} \\\n",
        "    --batch-size 8\n",
        "\n",
        "end = time.time()\n",
        "print(f\"\\nTime required to embed the recommendation file: {datetime.timedelta(seconds=floor(end-start))}\")"
      ],
      "metadata": {
        "colab": {
          "base_uri": "https://localhost:8080/"
        },
        "id": "iOmz494Dsmmi",
        "outputId": "ef697898-28c3-4d72-e0a8-9163eda1925e"
      },
      "execution_count": null,
      "outputs": [
        {
          "output_type": "stream",
          "name": "stdout",
          "text": [
            "4533it [19:35,  3.86it/s]\n",
            "\n",
            "Time required to embed the recommendation file: 0:20:17\n"
          ]
        }
      ]
    },
    {
      "cell_type": "markdown",
      "source": [
        "##Reproducing paper results"
      ],
      "metadata": {
        "id": "Fi6NobsWnZqB"
      }
    },
    {
      "cell_type": "code",
      "source": [
        "from pprint import pprint\n",
        "\n",
        "repository_results_hugging = {\n",
        "    'mag': {'f1': 79.4},\n",
        "    \"mesh\": {\"f1\": 87.7},\n",
        "    \"co-view\": {\"map\": 83.4, \"ndcg\": 91.4},\n",
        "    \"co-read\": {\"map\": 85.1, \"ndcg\": 92.7},\n",
        "    \"cite\": {\"map\": 92.0, \"ndcg\": 96.6},\n",
        "    \"co-cite\": {\"map\": 88.0, \"ndcg\": 94.7},\n",
        "    \"recomm\": {\"adj-NDCG\": 54.6, \"adj-P@1\": 20.9},\n",
        "    \"Avg\": 80.5\n",
        "}"
      ],
      "metadata": {
        "id": "l8VwGLKboJTz"
      },
      "execution_count": null,
      "outputs": []
    },
    {
      "cell_type": "code",
      "source": [
        "%%capture\n",
        "from scidocs import get_scidocs_metrics\n",
        "from scidocs.paths import DataPaths"
      ],
      "metadata": {
        "id": "1FYYOZ1mwy_C"
      },
      "execution_count": null,
      "outputs": []
    },
    {
      "cell_type": "code",
      "source": [
        "# Custom scidocs class with all the paths for every file in the dataset\n",
        "data_paths = DataPaths()\n",
        "\n",
        "# Embeddings jsonl files\n",
        "classification_embeddings_path = \"mag_mesh_hugging_embeddings.jsonl\"\n",
        "user_activity_and_citations_embeddings_path = \"view_cite_hugging_embeddings.jsonl\"\n",
        "recomm_embeddings_path = \"recomm_hugging_embeddings.jsonl\""
      ],
      "metadata": {
        "id": "JFFss53XPii1"
      },
      "execution_count": null,
      "outputs": []
    },
    {
      "cell_type": "code",
      "source": [
        "start = time.time()\n",
        "\n",
        "# Scidocs evaluation\n",
        "scidocs_metrics_hugging = get_scidocs_metrics(\n",
        "    data_paths,\n",
        "    classification_embeddings_path,\n",
        "    user_activity_and_citations_embeddings_path,\n",
        "    recomm_embeddings_path,\n",
        "    val_or_test='test',  # set to 'val' if tuning hyperparams\n",
        "    n_jobs=12,  # the classification tasks can be parallelized\n",
        "    cuda_device=device  # the recomm task can use a GPU if this is set to 0, 1, etc\n",
        ")\n",
        "\n",
        "end = time.time()"
      ],
      "metadata": {
        "id": "XaH7-JxSPii3",
        "colab": {
          "base_uri": "https://localhost:8080/"
        },
        "outputId": "6e14dfb9-42ae-4003-823d-30d71bc0a0ee"
      },
      "execution_count": null,
      "outputs": [
        {
          "output_type": "stream",
          "name": "stdout",
          "text": [
            "Loading MAG/MeSH embeddings...\n"
          ]
        },
        {
          "output_type": "stream",
          "name": "stderr",
          "text": [
            "reading embeddings from file...: 48473it [00:24, 1980.64it/s]\n"
          ]
        },
        {
          "output_type": "stream",
          "name": "stdout",
          "text": [
            "Running the MAG task...\n",
            "Fitting 3 folds for each of 7 candidates, totalling 21 fits\n"
          ]
        },
        {
          "output_type": "stream",
          "name": "stderr",
          "text": [
            "[Parallel(n_jobs=12)]: Using backend LokyBackend with 12 concurrent workers.\n",
            "[Parallel(n_jobs=12)]: Done  21 out of  21 | elapsed:  9.2min finished\n"
          ]
        },
        {
          "output_type": "stream",
          "name": "stdout",
          "text": [
            "Running the MeSH task...\n",
            "Fitting 3 folds for each of 7 candidates, totalling 21 fits\n"
          ]
        },
        {
          "output_type": "stream",
          "name": "stderr",
          "text": [
            "[Parallel(n_jobs=12)]: Using backend LokyBackend with 12 concurrent workers.\n",
            "[Parallel(n_jobs=12)]: Done  21 out of  21 | elapsed:  5.9min finished\n"
          ]
        },
        {
          "output_type": "stream",
          "name": "stdout",
          "text": [
            "Loading co-view, co-read, cite, and co-cite embeddings...\n"
          ]
        },
        {
          "output_type": "stream",
          "name": "stderr",
          "text": [
            "reading embeddings from file...: 142009it [01:16, 1865.68it/s]\n"
          ]
        },
        {
          "output_type": "stream",
          "name": "stdout",
          "text": [
            "Running the co-view, co-read, cite, and co-cite tasks...\n",
            "Loading recomm embeddings...\n",
            "Running the recomm task...\n",
            "Testing on 1000 examples.\n"
          ]
        },
        {
          "output_type": "stream",
          "name": "stderr",
          "text": [
            "100%|██████████| 1000/1000 [00:44<00:00, 22.36it/s]\n"
          ]
        }
      ]
    },
    {
      "cell_type": "code",
      "source": [
        "print(\"These two dictionaries should be identical (except 'recomm' due to a lack of PyTorch reproducibility)\\n\")\n",
        "\n",
        "print(\"Results got in this notebook\")\n",
        "pprint(scidocs_metrics_hugging)\n",
        "\n",
        "print(\"\\nResults of allenai/specter repository \")\n",
        "pprint(repository_results_hugging)\n",
        "\n",
        "print(f\"\\n\\nTime required to compute the metrics: {datetime.timedelta(seconds=floor(end-start))}\")"
      ],
      "metadata": {
        "colab": {
          "base_uri": "https://localhost:8080/"
        },
        "id": "Jf00LZnurccB",
        "outputId": "8677f3da-afcd-4dc9-dd68-0d19be6db58f"
      },
      "execution_count": null,
      "outputs": [
        {
          "output_type": "stream",
          "name": "stdout",
          "text": [
            "These two dictionaries should be identical (except 'recomm' due to a lack of PyTorch reproducibility)\n",
            "\n",
            "Results got in this notebook\n",
            "{'cite': {'map': 91.96, 'ndcg': 96.61},\n",
            " 'co-cite': {'map': 87.9, 'ndcg': 94.69},\n",
            " 'co-read': {'map': 85.11, 'ndcg': 92.73},\n",
            " 'co-view': {'map': 83.36, 'ndcg': 91.37},\n",
            " 'mag': {'f1': 79.43},\n",
            " 'mesh': {'f1': 87.67},\n",
            " 'recomm': {'adj-NDCG': 54.68, 'adj-P@1': 20.85}}\n",
            "\n",
            "Results of allenai/specter repository \n",
            "{'Avg': 80.5,\n",
            " 'cite': {'map': 92.0, 'ndcg': 96.6},\n",
            " 'co-cite': {'map': 88.0, 'ndcg': 94.7},\n",
            " 'co-read': {'map': 85.1, 'ndcg': 92.7},\n",
            " 'co-view': {'map': 83.4, 'ndcg': 91.4},\n",
            " 'mag': {'f1': 79.4},\n",
            " 'mesh': {'f1': 87.7},\n",
            " 'recomm': {'adj-NDCG': 54.6, 'adj-P@1': 20.9}}\n",
            "\n",
            "\n",
            "Time required to compute the metrics: 0:23:13\n"
          ]
        }
      ]
    },
    {
      "cell_type": "markdown",
      "source": [
        "#**Text Classification**"
      ],
      "metadata": {
        "id": "EBmvWIADnjys"
      }
    },
    {
      "cell_type": "markdown",
      "source": [
        "##Defining functions and common variables"
      ],
      "metadata": {
        "id": "zFM5rcROO6bS"
      }
    },
    {
      "cell_type": "code",
      "source": [
        "mesh_labels = {\n",
        "    0: 'Cardiovascular diseases',\n",
        "    1: 'Chronic kidney disease',\n",
        "    2: 'Chronic respiratory diseases',\n",
        "    3: 'Diabetes mellitus',\n",
        "    4: 'Digestive diseases',\n",
        "    5: 'HIV/AIDS',\n",
        "    6: 'Hepatitis A/B/C/E',\n",
        "    7: 'Mental disorders',\n",
        "    8: 'Musculoskeletal disorders',\n",
        "    9: 'Neoplasms (cancer)',\n",
        "    10: 'Neurological disorders'\n",
        "}\n",
        "\n",
        "mag_labels = {\n",
        "    0: 'Art',\n",
        "    1: 'Biology',\n",
        "    2: 'Business',\n",
        "    3: 'Chemistry',\n",
        "    4: 'Computer science',\n",
        "    5: 'Economics',\n",
        "    6: 'Engineering',\n",
        "    7: 'Environmental science',\n",
        "    8: 'Geography',\n",
        "    9: 'Geology',\n",
        "    10: 'History',\n",
        "    11: 'Materials science',\n",
        "    12: 'Mathematics',\n",
        "    13: 'Medicine',\n",
        "    14: 'Philosophy',\n",
        "    15: 'Physics',\n",
        "    16: 'Political science',\n",
        "    17: 'Psychology',\n",
        "    18: 'Sociology'\n",
        "}"
      ],
      "metadata": {
        "id": "4E_IcQ07xPg5"
      },
      "execution_count": 5,
      "outputs": []
    },
    {
      "cell_type": "code",
      "source": [
        "from pprint import pprint\n",
        "import os\n",
        "\n",
        "import numpy as np\n",
        "import pandas as pd\n",
        "import jsonlines\n",
        "\n",
        "from sklearn.model_selection import GridSearchCV\n",
        "from lightning.classification import LinearSVC\n",
        "\n",
        "from sklearn.metrics import confusion_matrix, f1_score, accuracy_score, precision_score, recall_score\n",
        "\n",
        "import seaborn as sn\n",
        "import matplotlib.pyplot as plt\n",
        "from matplotlib.colors import LogNorm"
      ],
      "metadata": {
        "id": "NLsp6fzfztZG",
        "colab": {
          "base_uri": "https://localhost:8080/"
        },
        "outputId": "6d7427e6-9598-4e79-b9f2-bf7fd1efcc62"
      },
      "execution_count": 6,
      "outputs": [
        {
          "output_type": "stream",
          "name": "stderr",
          "text": [
            "/usr/local/lib/python3.8/site-packages/sklearn/externals/six.py:28: FutureWarning: The module is deprecated in version 0.21 and will be removed in version 0.23 since we've dropped support for Python 2.7. Please rely on the official version of six (https://pypi.org/project/six/).\n",
            "  warnings.warn(\"The module is deprecated in version 0.21 and will be removed \"\n",
            "/usr/local/lib/python3.8/site-packages/sklearn/externals/joblib/__init__.py:15: FutureWarning: sklearn.externals.joblib is deprecated in 0.21 and will be removed in 0.23. Please import this functionality directly from joblib, which can be installed with: pip install joblib. If this warning is raised when loading pickled models, you may need to re-serialize those models with scikit-learn 0.21+.\n",
            "  warnings.warn(msg, category=FutureWarning)\n"
          ]
        }
      ]
    },
    {
      "cell_type": "code",
      "source": [
        "# Change this value to False if you don't want to download the file\n",
        "download_embeddings = True\n",
        "\n",
        "FILEID = '1T0uhbM5MwB8oUJoDXgqLhHpDziaPJ9ec'\n",
        "FILENAME = \"mag_mesh_hugging_embeddings_download.jsonl\"\n",
        "\n",
        "if download_embeddings:\n",
        "    command = f'''wget --load-cookies /tmp/cookies.txt \"https://docs.google.com/uc?export=download&confirm=$(wget --quiet --save-cookies /tmp/cookies.txt --keep-session-cookies --no-check-certificate 'https://docs.google.com/uc?export=download&id={FILEID}' -O- | sed -rn 's/.*confirm=([0-9A-Za-z_]+).*/\\1\\n/p')&id={FILEID}\" -O {FILENAME} && rm -rf /tmp/cookies.txt'''\n",
        "    os.system(command)\n",
        "\n",
        "    if os.path.exists(FILENAME):\n",
        "        print(\"File downloaded with success\")\n",
        "    else:\n",
        "        print(\"File not found/Other error\")\n"
      ],
      "metadata": {
        "id": "GsSwC1wGjhvX",
        "colab": {
          "base_uri": "https://localhost:8080/"
        },
        "outputId": "2422eba4-8769-4072-e9ee-4ad709b63c4c"
      },
      "execution_count": 7,
      "outputs": [
        {
          "output_type": "stream",
          "name": "stdout",
          "text": [
            "File downloaded with success\n"
          ]
        }
      ]
    },
    {
      "cell_type": "code",
      "source": [
        "force_scidocs_embeddings = False\n",
        "\n",
        "# This file contains all the informations about the papers used for the MAG and for the MeSH classification parts\n",
        "# If force_scidocs_embeddings = True, the Huggingface are ignored and the SciDocs embeddings are forced\n",
        "# The Huggingface embeddings are used if the file is found.\n",
        "# If they are generated in this execution time, it will use that file, otherwise he will use the downloaded file if found.\n",
        "# Otherwise, the scidocs ones are used.\n",
        "if force_scidocs_embeddings:\n",
        "    jsonl_file = 'data/specter-embeddings/cls.jsonl'\n",
        "elif os.path.exists('mag_mesh_hugging_embeddings.jsonl'):\n",
        "    jsonl_file = 'mag_mesh_hugging_embeddings.jsonl'\n",
        "elif os.path.exists('mag_mesh_hugging_embeddings_download.jsonl'):\n",
        "    jsonl_file = 'mag_mesh_hugging_embeddings_download.jsonl'\n",
        "else:\n",
        "    jsonl_file = 'data/specter-embeddings/cls.jsonl'\n",
        "\n",
        "print(\"jsonl_file =\", jsonl_file)\n",
        "\n",
        "start = time.time()\n",
        "\n",
        "reader = jsonlines.open(jsonl_file)\n",
        "dataset_dict = {}\n",
        "\n",
        "for j in reader.iter():\n",
        "    id = j['paper_id']\n",
        "\n",
        "    dataset_dict[id] = j\n",
        "    dataset_dict[id][\"embedding\"] = np.array(j[\"embedding\"])\n",
        "\n",
        "reader.close()\n",
        "\n",
        "end = time.time()\n",
        "print(f\"Time required to read the embeddings file: {datetime.timedelta(seconds=floor(end-start))}\")"
      ],
      "metadata": {
        "id": "TxfjOAS75Q_Z",
        "colab": {
          "base_uri": "https://localhost:8080/"
        },
        "outputId": "6bf94b4a-7dea-4e78-8f7f-26b72b167240"
      },
      "execution_count": 11,
      "outputs": [
        {
          "output_type": "stream",
          "name": "stdout",
          "text": [
            "jsonl_file = mag_mesh_hugging_embeddings_download.jsonl\n",
            "Time required to read the embeddings file: 0:00:28\n"
          ]
        }
      ]
    },
    {
      "cell_type": "code",
      "source": [
        "# This function link the embeddings with the labels\n",
        "def get_x_y_for_classification(dataset_dict, csv_file):\n",
        "    # This variable is used when the embeddings are missing\n",
        "    dim = len(next(iter(dataset_dict.values()))['embedding'])\n",
        "\n",
        "    x = []\n",
        "    y = []\n",
        "    missings = 0\n",
        "    \n",
        "    df = pd.read_csv(csv_file, header=0)\n",
        "    \n",
        "    for row in df.iterrows():\n",
        "        pid = row[1]['pid']\n",
        "        label = row[1]['class_label']\n",
        "        \n",
        "        if pid in dataset_dict:\n",
        "            embedding = dataset_dict[pid][\"embedding\"]\n",
        "        else:\n",
        "            embedding = np.zeros(dim)\n",
        "            missings += 1\n",
        "        \n",
        "        x.append(embedding)\n",
        "        y.append(label)\n",
        "    \n",
        "    x = np.array(x)\n",
        "    y = np.array(y)\n",
        "\n",
        "    return x, y, missings"
      ],
      "metadata": {
        "id": "t8On8ldA5Q64"
      },
      "execution_count": 12,
      "outputs": []
    },
    {
      "cell_type": "code",
      "source": [
        "# LinearSVC is used for the classification part, just like in scidocs/scidocs/classification.py\n",
        "def create_classification_model(X_train, y_train, n_jobs=-1):\n",
        "    estimator = LinearSVC(loss=\"squared_hinge\", random_state=42)\n",
        "    Cs = np.logspace(-4, 2, 7)\n",
        "\n",
        "    svm = GridSearchCV(estimator=estimator, cv=3, param_grid={'C': Cs}, verbose=1, n_jobs=n_jobs)\n",
        "    svm.fit(X_train, y_train)\n",
        "    \n",
        "    return svm"
      ],
      "metadata": {
        "id": "yFhsIpHM33cJ"
      },
      "execution_count": 13,
      "outputs": []
    },
    {
      "cell_type": "code",
      "source": [
        "def classify(model, x, y_true):\n",
        "    y_pred = model.predict(x)\n",
        "    \n",
        "    accuracy = accuracy_score(y_true, y_pred)\n",
        "    confusion = confusion_matrix(y_true, y_pred)\n",
        "\n",
        "    precision_array = precision_score(y_true, y_pred, average=None)\n",
        "    recall_array = recall_score(y_true, y_pred, average=None)\n",
        "    f1_array = f1_score(y_true, y_pred, average=None)\n",
        "    \n",
        "    return y_pred, accuracy, confusion, precision_array, recall_array, f1_array"
      ],
      "metadata": {
        "id": "mHB271OhWdGj"
      },
      "execution_count": 14,
      "outputs": []
    },
    {
      "cell_type": "code",
      "source": [
        "def plot_confusion_matrix(confusion, y_test_bincount, labels, title, fig_size=(13,10)):\n",
        "    y_test_bincount = y_test_bincount.reshape((-1,1))\n",
        "\n",
        "    df_cm = pd.DataFrame(confusion * (100 / y_test_bincount), list(labels.values()), list(labels.values()))\n",
        "\n",
        "    plt.figure(figsize=fig_size)\n",
        "    color_pal = sn.color_palette(\"ch:start=1.6,rot=.1,dark=.35,light=0.95\", as_cmap=True)\n",
        "\n",
        "    sn.set(font_scale=1.4) # for label size\n",
        "    ax = sn.heatmap(df_cm, annot=(confusion * (100 / y_test_bincount)), annot_kws={\"size\": 11}, cmap=color_pal, fmt=\".1f\", norm=LogNorm(vmax=100.0))\n",
        "    ax.set(xlabel=\"Prediction\", ylabel=\"True values\")\n",
        "    ax.set_facecolor(\"#ffffff\")\n",
        "    ax.set_title(title)\n",
        "\n",
        "    plt.show()"
      ],
      "metadata": {
        "id": "F1bdg3QzRCAk"
      },
      "execution_count": 51,
      "outputs": []
    },
    {
      "cell_type": "markdown",
      "source": [
        "##MAG"
      ],
      "metadata": {
        "id": "Oht5sB4uOqKn"
      }
    },
    {
      "cell_type": "code",
      "source": [
        "csv_train_file = 'data/mag/train.csv'\n",
        "csv_test_file = 'data/mag/test.csv'\n",
        "#csv_val_file = 'data/mag/val.csv'\n",
        "\n",
        "labels = mag_labels"
      ],
      "metadata": {
        "id": "B-10io-Q33M1"
      },
      "execution_count": 68,
      "outputs": []
    },
    {
      "cell_type": "code",
      "source": [
        "x_train, y_train, miss_train = get_x_y_for_classification(dataset_dict, csv_train_file)\n",
        "x_test, y_test, miss_test = get_x_y_for_classification(dataset_dict, csv_test_file)\n",
        "#x_val, y_val, miss_val = get_x_y_for_classification(dataset_dict, csv_val_file)\n",
        "\n",
        "y_test_bincount = np.bincount(y_test)\n",
        "\n",
        "print(\"Number of embeddings not found for the training set:\", miss_train)\n",
        "print(\"Number of embeddings not found for the test set:\", miss_test)"
      ],
      "metadata": {
        "id": "t2bfNd3u33JL",
        "colab": {
          "base_uri": "https://localhost:8080/"
        },
        "outputId": "1bd43073-7367-4c64-8529-2db8a748c86b"
      },
      "execution_count": 69,
      "outputs": [
        {
          "output_type": "stream",
          "name": "stdout",
          "text": [
            "Number of embeddings not found for the training set: 0\n",
            "Number of embeddings not found for the test set: 0\n"
          ]
        }
      ]
    },
    {
      "cell_type": "code",
      "source": [
        "start = time.time()\n",
        "\n",
        "# Creating the model\n",
        "svm_mag = create_classification_model(x_train, y_train)\n",
        "\n",
        "end = time.time()\n",
        "print(f\"\\nTime required to create the model: {datetime.timedelta(seconds=floor(end-start))}\")"
      ],
      "metadata": {
        "id": "TjOwEWu_Nbxd",
        "colab": {
          "base_uri": "https://localhost:8080/"
        },
        "outputId": "944312fb-cb69-4e7b-c2fd-0d4584379d6d"
      },
      "execution_count": 70,
      "outputs": [
        {
          "output_type": "stream",
          "name": "stdout",
          "text": [
            "Fitting 3 folds for each of 7 candidates, totalling 21 fits\n"
          ]
        },
        {
          "output_type": "stream",
          "name": "stderr",
          "text": [
            "[Parallel(n_jobs=-1)]: Using backend LokyBackend with 2 concurrent workers.\n",
            "[Parallel(n_jobs=-1)]: Done  21 out of  21 | elapsed: 11.8min finished\n"
          ]
        },
        {
          "output_type": "stream",
          "name": "stdout",
          "text": [
            "\n",
            "Time required to create the model: 0:12:03\n"
          ]
        }
      ]
    },
    {
      "cell_type": "code",
      "source": [
        "# Classifing the Test set\n",
        "y_pred, accuracy, confusion, precision_array, recall_array, f1_array = classify(svm_mag, x_test, y_test)\n",
        "\n",
        "print(f\"Accuracy: {accuracy*100:2.2f}%\")\n",
        "print(f\"F1 Score: {f1_array.mean()*100:2.2f}%\", end='\\n\\n')\n",
        "\n",
        "df = pd.DataFrame({\n",
        "    \"Label\": list(labels.values()),\n",
        "    \"Precision\": precision_array,\n",
        "    \"Recall\": recall_array,\n",
        "    \"F1 score\": f1_array,\n",
        "    \"Count\": y_test_bincount\n",
        "}).round(decimals=3)\n",
        "df"
      ],
      "metadata": {
        "id": "jN11qfOJrh9W",
        "colab": {
          "base_uri": "https://localhost:8080/",
          "height": 697
        },
        "outputId": "88dba868-f9b1-471d-df75-1b810aacfed9"
      },
      "execution_count": 71,
      "outputs": [
        {
          "output_type": "stream",
          "name": "stdout",
          "text": [
            "Accuracy: 80.43%\n",
            "F1 Score: 79.43%\n",
            "\n"
          ]
        },
        {
          "output_type": "execute_result",
          "data": {
            "text/plain": [
              "                    Label  Precision  Recall  F1 score  Count\n",
              "0                     Art      0.650   0.766     0.703    175\n",
              "1                 Biology      0.884   0.974     0.927    227\n",
              "2                Business      0.839   0.827     0.833    196\n",
              "3               Chemistry      0.955   0.959     0.957    197\n",
              "4        Computer science      0.882   0.863     0.872    190\n",
              "5               Economics      0.767   0.745     0.756    216\n",
              "6             Engineering      0.853   0.918     0.884    208\n",
              "7   Environmental science      0.912   0.912     0.912    216\n",
              "8               Geography      0.704   0.773     0.737    172\n",
              "9                 Geology      0.981   0.962     0.971    212\n",
              "10                History      0.580   0.487     0.529    187\n",
              "11      Materials science      0.956   0.898     0.926    216\n",
              "12            Mathematics      0.889   0.908     0.898    195\n",
              "13               Medicine      0.920   0.945     0.933    183\n",
              "14             Philosophy      0.608   0.709     0.654    175\n",
              "15                Physics      0.945   0.964     0.955    197\n",
              "16      Political science      0.540   0.542     0.541    201\n",
              "17             Psychology      0.759   0.729     0.744    203\n",
              "18              Sociology      0.451   0.297     0.358    185"
            ],
            "text/html": [
              "\n",
              "  <div id=\"df-5d01ff75-628b-4332-ba1c-0c964d989647\">\n",
              "    <div class=\"colab-df-container\">\n",
              "      <div>\n",
              "<style scoped>\n",
              "    .dataframe tbody tr th:only-of-type {\n",
              "        vertical-align: middle;\n",
              "    }\n",
              "\n",
              "    .dataframe tbody tr th {\n",
              "        vertical-align: top;\n",
              "    }\n",
              "\n",
              "    .dataframe thead th {\n",
              "        text-align: right;\n",
              "    }\n",
              "</style>\n",
              "<table border=\"1\" class=\"dataframe\">\n",
              "  <thead>\n",
              "    <tr style=\"text-align: right;\">\n",
              "      <th></th>\n",
              "      <th>Label</th>\n",
              "      <th>Precision</th>\n",
              "      <th>Recall</th>\n",
              "      <th>F1 score</th>\n",
              "      <th>Count</th>\n",
              "    </tr>\n",
              "  </thead>\n",
              "  <tbody>\n",
              "    <tr>\n",
              "      <th>0</th>\n",
              "      <td>Art</td>\n",
              "      <td>0.650</td>\n",
              "      <td>0.766</td>\n",
              "      <td>0.703</td>\n",
              "      <td>175</td>\n",
              "    </tr>\n",
              "    <tr>\n",
              "      <th>1</th>\n",
              "      <td>Biology</td>\n",
              "      <td>0.884</td>\n",
              "      <td>0.974</td>\n",
              "      <td>0.927</td>\n",
              "      <td>227</td>\n",
              "    </tr>\n",
              "    <tr>\n",
              "      <th>2</th>\n",
              "      <td>Business</td>\n",
              "      <td>0.839</td>\n",
              "      <td>0.827</td>\n",
              "      <td>0.833</td>\n",
              "      <td>196</td>\n",
              "    </tr>\n",
              "    <tr>\n",
              "      <th>3</th>\n",
              "      <td>Chemistry</td>\n",
              "      <td>0.955</td>\n",
              "      <td>0.959</td>\n",
              "      <td>0.957</td>\n",
              "      <td>197</td>\n",
              "    </tr>\n",
              "    <tr>\n",
              "      <th>4</th>\n",
              "      <td>Computer science</td>\n",
              "      <td>0.882</td>\n",
              "      <td>0.863</td>\n",
              "      <td>0.872</td>\n",
              "      <td>190</td>\n",
              "    </tr>\n",
              "    <tr>\n",
              "      <th>5</th>\n",
              "      <td>Economics</td>\n",
              "      <td>0.767</td>\n",
              "      <td>0.745</td>\n",
              "      <td>0.756</td>\n",
              "      <td>216</td>\n",
              "    </tr>\n",
              "    <tr>\n",
              "      <th>6</th>\n",
              "      <td>Engineering</td>\n",
              "      <td>0.853</td>\n",
              "      <td>0.918</td>\n",
              "      <td>0.884</td>\n",
              "      <td>208</td>\n",
              "    </tr>\n",
              "    <tr>\n",
              "      <th>7</th>\n",
              "      <td>Environmental science</td>\n",
              "      <td>0.912</td>\n",
              "      <td>0.912</td>\n",
              "      <td>0.912</td>\n",
              "      <td>216</td>\n",
              "    </tr>\n",
              "    <tr>\n",
              "      <th>8</th>\n",
              "      <td>Geography</td>\n",
              "      <td>0.704</td>\n",
              "      <td>0.773</td>\n",
              "      <td>0.737</td>\n",
              "      <td>172</td>\n",
              "    </tr>\n",
              "    <tr>\n",
              "      <th>9</th>\n",
              "      <td>Geology</td>\n",
              "      <td>0.981</td>\n",
              "      <td>0.962</td>\n",
              "      <td>0.971</td>\n",
              "      <td>212</td>\n",
              "    </tr>\n",
              "    <tr>\n",
              "      <th>10</th>\n",
              "      <td>History</td>\n",
              "      <td>0.580</td>\n",
              "      <td>0.487</td>\n",
              "      <td>0.529</td>\n",
              "      <td>187</td>\n",
              "    </tr>\n",
              "    <tr>\n",
              "      <th>11</th>\n",
              "      <td>Materials science</td>\n",
              "      <td>0.956</td>\n",
              "      <td>0.898</td>\n",
              "      <td>0.926</td>\n",
              "      <td>216</td>\n",
              "    </tr>\n",
              "    <tr>\n",
              "      <th>12</th>\n",
              "      <td>Mathematics</td>\n",
              "      <td>0.889</td>\n",
              "      <td>0.908</td>\n",
              "      <td>0.898</td>\n",
              "      <td>195</td>\n",
              "    </tr>\n",
              "    <tr>\n",
              "      <th>13</th>\n",
              "      <td>Medicine</td>\n",
              "      <td>0.920</td>\n",
              "      <td>0.945</td>\n",
              "      <td>0.933</td>\n",
              "      <td>183</td>\n",
              "    </tr>\n",
              "    <tr>\n",
              "      <th>14</th>\n",
              "      <td>Philosophy</td>\n",
              "      <td>0.608</td>\n",
              "      <td>0.709</td>\n",
              "      <td>0.654</td>\n",
              "      <td>175</td>\n",
              "    </tr>\n",
              "    <tr>\n",
              "      <th>15</th>\n",
              "      <td>Physics</td>\n",
              "      <td>0.945</td>\n",
              "      <td>0.964</td>\n",
              "      <td>0.955</td>\n",
              "      <td>197</td>\n",
              "    </tr>\n",
              "    <tr>\n",
              "      <th>16</th>\n",
              "      <td>Political science</td>\n",
              "      <td>0.540</td>\n",
              "      <td>0.542</td>\n",
              "      <td>0.541</td>\n",
              "      <td>201</td>\n",
              "    </tr>\n",
              "    <tr>\n",
              "      <th>17</th>\n",
              "      <td>Psychology</td>\n",
              "      <td>0.759</td>\n",
              "      <td>0.729</td>\n",
              "      <td>0.744</td>\n",
              "      <td>203</td>\n",
              "    </tr>\n",
              "    <tr>\n",
              "      <th>18</th>\n",
              "      <td>Sociology</td>\n",
              "      <td>0.451</td>\n",
              "      <td>0.297</td>\n",
              "      <td>0.358</td>\n",
              "      <td>185</td>\n",
              "    </tr>\n",
              "  </tbody>\n",
              "</table>\n",
              "</div>\n",
              "      <button class=\"colab-df-convert\" onclick=\"convertToInteractive('df-5d01ff75-628b-4332-ba1c-0c964d989647')\"\n",
              "              title=\"Convert this dataframe to an interactive table.\"\n",
              "              style=\"display:none;\">\n",
              "        \n",
              "  <svg xmlns=\"http://www.w3.org/2000/svg\" height=\"24px\"viewBox=\"0 0 24 24\"\n",
              "       width=\"24px\">\n",
              "    <path d=\"M0 0h24v24H0V0z\" fill=\"none\"/>\n",
              "    <path d=\"M18.56 5.44l.94 2.06.94-2.06 2.06-.94-2.06-.94-.94-2.06-.94 2.06-2.06.94zm-11 1L8.5 8.5l.94-2.06 2.06-.94-2.06-.94L8.5 2.5l-.94 2.06-2.06.94zm10 10l.94 2.06.94-2.06 2.06-.94-2.06-.94-.94-2.06-.94 2.06-2.06.94z\"/><path d=\"M17.41 7.96l-1.37-1.37c-.4-.4-.92-.59-1.43-.59-.52 0-1.04.2-1.43.59L10.3 9.45l-7.72 7.72c-.78.78-.78 2.05 0 2.83L4 21.41c.39.39.9.59 1.41.59.51 0 1.02-.2 1.41-.59l7.78-7.78 2.81-2.81c.8-.78.8-2.07 0-2.86zM5.41 20L4 18.59l7.72-7.72 1.47 1.35L5.41 20z\"/>\n",
              "  </svg>\n",
              "      </button>\n",
              "      \n",
              "  <style>\n",
              "    .colab-df-container {\n",
              "      display:flex;\n",
              "      flex-wrap:wrap;\n",
              "      gap: 12px;\n",
              "    }\n",
              "\n",
              "    .colab-df-convert {\n",
              "      background-color: #E8F0FE;\n",
              "      border: none;\n",
              "      border-radius: 50%;\n",
              "      cursor: pointer;\n",
              "      display: none;\n",
              "      fill: #1967D2;\n",
              "      height: 32px;\n",
              "      padding: 0 0 0 0;\n",
              "      width: 32px;\n",
              "    }\n",
              "\n",
              "    .colab-df-convert:hover {\n",
              "      background-color: #E2EBFA;\n",
              "      box-shadow: 0px 1px 2px rgba(60, 64, 67, 0.3), 0px 1px 3px 1px rgba(60, 64, 67, 0.15);\n",
              "      fill: #174EA6;\n",
              "    }\n",
              "\n",
              "    [theme=dark] .colab-df-convert {\n",
              "      background-color: #3B4455;\n",
              "      fill: #D2E3FC;\n",
              "    }\n",
              "\n",
              "    [theme=dark] .colab-df-convert:hover {\n",
              "      background-color: #434B5C;\n",
              "      box-shadow: 0px 1px 3px 1px rgba(0, 0, 0, 0.15);\n",
              "      filter: drop-shadow(0px 1px 2px rgba(0, 0, 0, 0.3));\n",
              "      fill: #FFFFFF;\n",
              "    }\n",
              "  </style>\n",
              "\n",
              "      <script>\n",
              "        const buttonEl =\n",
              "          document.querySelector('#df-5d01ff75-628b-4332-ba1c-0c964d989647 button.colab-df-convert');\n",
              "        buttonEl.style.display =\n",
              "          google.colab.kernel.accessAllowed ? 'block' : 'none';\n",
              "\n",
              "        async function convertToInteractive(key) {\n",
              "          const element = document.querySelector('#df-5d01ff75-628b-4332-ba1c-0c964d989647');\n",
              "          const dataTable =\n",
              "            await google.colab.kernel.invokeFunction('convertToInteractive',\n",
              "                                                     [key], {});\n",
              "          if (!dataTable) return;\n",
              "\n",
              "          const docLinkHtml = 'Like what you see? Visit the ' +\n",
              "            '<a target=\"_blank\" href=https://colab.research.google.com/notebooks/data_table.ipynb>data table notebook</a>'\n",
              "            + ' to learn more about interactive tables.';\n",
              "          element.innerHTML = '';\n",
              "          dataTable['output_type'] = 'display_data';\n",
              "          await google.colab.output.renderOutput(dataTable, element);\n",
              "          const docLink = document.createElement('div');\n",
              "          docLink.innerHTML = docLinkHtml;\n",
              "          element.appendChild(docLink);\n",
              "        }\n",
              "      </script>\n",
              "    </div>\n",
              "  </div>\n",
              "  "
            ]
          },
          "metadata": {},
          "execution_count": 71
        }
      ]
    },
    {
      "cell_type": "code",
      "source": [
        "plot_confusion_matrix(confusion, y_test_bincount, labels, \"MAG\")"
      ],
      "metadata": {
        "colab": {
          "base_uri": "https://localhost:8080/",
          "height": 801
        },
        "id": "7h2EuwEsk18W",
        "outputId": "1de440dd-2e35-4108-e119-5d02ca171226"
      },
      "execution_count": 73,
      "outputs": [
        {
          "output_type": "display_data",
          "data": {
            "text/plain": [
              "<Figure size 936x720 with 2 Axes>"
            ],
            "image/png": "[encoded data removed]"
          },
          "metadata": {}
        }
      ]
    },
    {
      "cell_type": "markdown",
      "source": [
        "##MeSH"
      ],
      "metadata": {
        "id": "B61Unw-LOssQ"
      }
    },
    {
      "cell_type": "code",
      "source": [
        "csv_train_file = 'data/mesh/train.csv'\n",
        "csv_test_file = 'data/mesh/test.csv'\n",
        "#csv_val_file = 'data/mesh/val.csv'\n",
        "\n",
        "labels = mesh_labels"
      ],
      "metadata": {
        "id": "1K4fu2mrfbDD"
      },
      "execution_count": 75,
      "outputs": []
    },
    {
      "cell_type": "code",
      "source": [
        "x_train, y_train, miss_train = get_x_y_for_classification(dataset_dict, csv_train_file)\n",
        "x_test, y_test, miss_test = get_x_y_for_classification(dataset_dict, csv_test_file)\n",
        "#x_val, y_val, miss_val = get_x_y_for_classification(dataset_dict, csv_val_file)\n",
        "\n",
        "y_test_bincount = np.bincount(y_test)\n",
        "\n",
        "print(\"Number of embeddings not found for the training set:\", miss_train)\n",
        "print(\"Number of embeddings not found for the test set:\", miss_test)"
      ],
      "metadata": {
        "id": "bSlCUCbUS69q",
        "colab": {
          "base_uri": "https://localhost:8080/"
        },
        "outputId": "6b2ceb3f-5c37-452b-a757-5914cca43f73"
      },
      "execution_count": 76,
      "outputs": [
        {
          "output_type": "stream",
          "name": "stdout",
          "text": [
            "Number of embeddings not found for the training set: 45\n",
            "Number of embeddings not found for the test set: 7\n"
          ]
        }
      ]
    },
    {
      "cell_type": "code",
      "source": [
        "start = time.time()\n",
        "\n",
        "# Creating the model\n",
        "svm_mesh = create_classification_model(x_train, y_train)\n",
        "\n",
        "end = time.time()\n",
        "print(f\"\\nTime required to create the model: {datetime.timedelta(seconds=floor(end-start))}\")"
      ],
      "metadata": {
        "colab": {
          "base_uri": "https://localhost:8080/"
        },
        "outputId": "6a8eefc3-955d-4612-dcc4-7a234cec0780",
        "id": "yOm9O6VuS69q"
      },
      "execution_count": 77,
      "outputs": [
        {
          "output_type": "stream",
          "name": "stdout",
          "text": [
            "Fitting 3 folds for each of 7 candidates, totalling 21 fits\n"
          ]
        },
        {
          "output_type": "stream",
          "name": "stderr",
          "text": [
            "[Parallel(n_jobs=-1)]: Using backend LokyBackend with 2 concurrent workers.\n",
            "[Parallel(n_jobs=-1)]: Done  21 out of  21 | elapsed:  7.7min finished\n"
          ]
        },
        {
          "output_type": "stream",
          "name": "stdout",
          "text": [
            "\n",
            "Time required to create the model: 0:07:52\n"
          ]
        }
      ]
    },
    {
      "cell_type": "code",
      "source": [
        "# Classifing the Test set\n",
        "y_pred, accuracy, confusion, precision_array, recall_array, f1_array = classify(svm_mesh, x_test, y_test)\n",
        "\n",
        "print(f\"Accuracy: {accuracy*100:2.2f}%\")\n",
        "print(f\"F1 Score: {f1_array.mean()*100:2.2f}%\", end='\\n\\n')\n",
        "\n",
        "df = pd.DataFrame({\n",
        "    \"Label\": list(labels.values()),\n",
        "    \"Precision\": precision_array,\n",
        "    \"Recall\": recall_array,\n",
        "    \"F1 score\": f1_array,\n",
        "    \"Count\": y_test_bincount\n",
        "}).round(decimals=3)\n",
        "df"
      ],
      "metadata": {
        "colab": {
          "base_uri": "https://localhost:8080/",
          "height": 446
        },
        "outputId": "76bd554c-0618-402b-dbb4-b54261f1a06c",
        "id": "UJJbCIzOS69r"
      },
      "execution_count": 78,
      "outputs": [
        {
          "output_type": "stream",
          "name": "stdout",
          "text": [
            "Accuracy: 88.62%\n",
            "F1 Score: 87.67%\n",
            "\n"
          ]
        },
        {
          "output_type": "execute_result",
          "data": {
            "text/plain": [
              "                           Label  Precision  Recall  F1 score  Count\n",
              "0        Cardiovascular diseases      0.850   0.895     0.872    787\n",
              "1         Chronic kidney disease      0.876   0.821     0.848    112\n",
              "2   Chronic respiratory diseases      0.869   0.835     0.852    261\n",
              "3              Diabetes mellitus      0.893   0.858     0.875    233\n",
              "4             Digestive diseases      0.795   0.788     0.791    113\n",
              "5                       HIV/AIDS      0.964   0.882     0.922    153\n",
              "6              Hepatitis A/B/C/E      0.875   0.918     0.896     61\n",
              "7               Mental disorders      0.897   0.902     0.899    367\n",
              "8      Musculoskeletal disorders      0.910   0.920     0.915    287\n",
              "9             Neoplasms (cancer)      0.917   0.927     0.922    825\n",
              "10        Neurological disorders      0.876   0.828     0.851    332"
            ],
            "text/html": [
              "\n",
              "  <div id=\"df-9ce9b13a-72e8-4eaa-8b6d-a5712c31cec4\">\n",
              "    <div class=\"colab-df-container\">\n",
              "      <div>\n",
              "<style scoped>\n",
              "    .dataframe tbody tr th:only-of-type {\n",
              "        vertical-align: middle;\n",
              "    }\n",
              "\n",
              "    .dataframe tbody tr th {\n",
              "        vertical-align: top;\n",
              "    }\n",
              "\n",
              "    .dataframe thead th {\n",
              "        text-align: right;\n",
              "    }\n",
              "</style>\n",
              "<table border=\"1\" class=\"dataframe\">\n",
              "  <thead>\n",
              "    <tr style=\"text-align: right;\">\n",
              "      <th></th>\n",
              "      <th>Label</th>\n",
              "      <th>Precision</th>\n",
              "      <th>Recall</th>\n",
              "      <th>F1 score</th>\n",
              "      <th>Count</th>\n",
              "    </tr>\n",
              "  </thead>\n",
              "  <tbody>\n",
              "    <tr>\n",
              "      <th>0</th>\n",
              "      <td>Cardiovascular diseases</td>\n",
              "      <td>0.850</td>\n",
              "      <td>0.895</td>\n",
              "      <td>0.872</td>\n",
              "      <td>787</td>\n",
              "    </tr>\n",
              "    <tr>\n",
              "      <th>1</th>\n",
              "      <td>Chronic kidney disease</td>\n",
              "      <td>0.876</td>\n",
              "      <td>0.821</td>\n",
              "      <td>0.848</td>\n",
              "      <td>112</td>\n",
              "    </tr>\n",
              "    <tr>\n",
              "      <th>2</th>\n",
              "      <td>Chronic respiratory diseases</td>\n",
              "      <td>0.869</td>\n",
              "      <td>0.835</td>\n",
              "      <td>0.852</td>\n",
              "      <td>261</td>\n",
              "    </tr>\n",
              "    <tr>\n",
              "      <th>3</th>\n",
              "      <td>Diabetes mellitus</td>\n",
              "      <td>0.893</td>\n",
              "      <td>0.858</td>\n",
              "      <td>0.875</td>\n",
              "      <td>233</td>\n",
              "    </tr>\n",
              "    <tr>\n",
              "      <th>4</th>\n",
              "      <td>Digestive diseases</td>\n",
              "      <td>0.795</td>\n",
              "      <td>0.788</td>\n",
              "      <td>0.791</td>\n",
              "      <td>113</td>\n",
              "    </tr>\n",
              "    <tr>\n",
              "      <th>5</th>\n",
              "      <td>HIV/AIDS</td>\n",
              "      <td>0.964</td>\n",
              "      <td>0.882</td>\n",
              "      <td>0.922</td>\n",
              "      <td>153</td>\n",
              "    </tr>\n",
              "    <tr>\n",
              "      <th>6</th>\n",
              "      <td>Hepatitis A/B/C/E</td>\n",
              "      <td>0.875</td>\n",
              "      <td>0.918</td>\n",
              "      <td>0.896</td>\n",
              "      <td>61</td>\n",
              "    </tr>\n",
              "    <tr>\n",
              "      <th>7</th>\n",
              "      <td>Mental disorders</td>\n",
              "      <td>0.897</td>\n",
              "      <td>0.902</td>\n",
              "      <td>0.899</td>\n",
              "      <td>367</td>\n",
              "    </tr>\n",
              "    <tr>\n",
              "      <th>8</th>\n",
              "      <td>Musculoskeletal disorders</td>\n",
              "      <td>0.910</td>\n",
              "      <td>0.920</td>\n",
              "      <td>0.915</td>\n",
              "      <td>287</td>\n",
              "    </tr>\n",
              "    <tr>\n",
              "      <th>9</th>\n",
              "      <td>Neoplasms (cancer)</td>\n",
              "      <td>0.917</td>\n",
              "      <td>0.927</td>\n",
              "      <td>0.922</td>\n",
              "      <td>825</td>\n",
              "    </tr>\n",
              "    <tr>\n",
              "      <th>10</th>\n",
              "      <td>Neurological disorders</td>\n",
              "      <td>0.876</td>\n",
              "      <td>0.828</td>\n",
              "      <td>0.851</td>\n",
              "      <td>332</td>\n",
              "    </tr>\n",
              "  </tbody>\n",
              "</table>\n",
              "</div>\n",
              "      <button class=\"colab-df-convert\" onclick=\"convertToInteractive('df-9ce9b13a-72e8-4eaa-8b6d-a5712c31cec4')\"\n",
              "              title=\"Convert this dataframe to an interactive table.\"\n",
              "              style=\"display:none;\">\n",
              "        \n",
              "  <svg xmlns=\"http://www.w3.org/2000/svg\" height=\"24px\"viewBox=\"0 0 24 24\"\n",
              "       width=\"24px\">\n",
              "    <path d=\"M0 0h24v24H0V0z\" fill=\"none\"/>\n",
              "    <path d=\"M18.56 5.44l.94 2.06.94-2.06 2.06-.94-2.06-.94-.94-2.06-.94 2.06-2.06.94zm-11 1L8.5 8.5l.94-2.06 2.06-.94-2.06-.94L8.5 2.5l-.94 2.06-2.06.94zm10 10l.94 2.06.94-2.06 2.06-.94-2.06-.94-.94-2.06-.94 2.06-2.06.94z\"/><path d=\"M17.41 7.96l-1.37-1.37c-.4-.4-.92-.59-1.43-.59-.52 0-1.04.2-1.43.59L10.3 9.45l-7.72 7.72c-.78.78-.78 2.05 0 2.83L4 21.41c.39.39.9.59 1.41.59.51 0 1.02-.2 1.41-.59l7.78-7.78 2.81-2.81c.8-.78.8-2.07 0-2.86zM5.41 20L4 18.59l7.72-7.72 1.47 1.35L5.41 20z\"/>\n",
              "  </svg>\n",
              "      </button>\n",
              "      \n",
              "  <style>\n",
              "    .colab-df-container {\n",
              "      display:flex;\n",
              "      flex-wrap:wrap;\n",
              "      gap: 12px;\n",
              "    }\n",
              "\n",
              "    .colab-df-convert {\n",
              "      background-color: #E8F0FE;\n",
              "      border: none;\n",
              "      border-radius: 50%;\n",
              "      cursor: pointer;\n",
              "      display: none;\n",
              "      fill: #1967D2;\n",
              "      height: 32px;\n",
              "      padding: 0 0 0 0;\n",
              "      width: 32px;\n",
              "    }\n",
              "\n",
              "    .colab-df-convert:hover {\n",
              "      background-color: #E2EBFA;\n",
              "      box-shadow: 0px 1px 2px rgba(60, 64, 67, 0.3), 0px 1px 3px 1px rgba(60, 64, 67, 0.15);\n",
              "      fill: #174EA6;\n",
              "    }\n",
              "\n",
              "    [theme=dark] .colab-df-convert {\n",
              "      background-color: #3B4455;\n",
              "      fill: #D2E3FC;\n",
              "    }\n",
              "\n",
              "    [theme=dark] .colab-df-convert:hover {\n",
              "      background-color: #434B5C;\n",
              "      box-shadow: 0px 1px 3px 1px rgba(0, 0, 0, 0.15);\n",
              "      filter: drop-shadow(0px 1px 2px rgba(0, 0, 0, 0.3));\n",
              "      fill: #FFFFFF;\n",
              "    }\n",
              "  </style>\n",
              "\n",
              "      <script>\n",
              "        const buttonEl =\n",
              "          document.querySelector('#df-9ce9b13a-72e8-4eaa-8b6d-a5712c31cec4 button.colab-df-convert');\n",
              "        buttonEl.style.display =\n",
              "          google.colab.kernel.accessAllowed ? 'block' : 'none';\n",
              "\n",
              "        async function convertToInteractive(key) {\n",
              "          const element = document.querySelector('#df-9ce9b13a-72e8-4eaa-8b6d-a5712c31cec4');\n",
              "          const dataTable =\n",
              "            await google.colab.kernel.invokeFunction('convertToInteractive',\n",
              "                                                     [key], {});\n",
              "          if (!dataTable) return;\n",
              "\n",
              "          const docLinkHtml = 'Like what you see? Visit the ' +\n",
              "            '<a target=\"_blank\" href=https://colab.research.google.com/notebooks/data_table.ipynb>data table notebook</a>'\n",
              "            + ' to learn more about interactive tables.';\n",
              "          element.innerHTML = '';\n",
              "          dataTable['output_type'] = 'display_data';\n",
              "          await google.colab.output.renderOutput(dataTable, element);\n",
              "          const docLink = document.createElement('div');\n",
              "          docLink.innerHTML = docLinkHtml;\n",
              "          element.appendChild(docLink);\n",
              "        }\n",
              "      </script>\n",
              "    </div>\n",
              "  </div>\n",
              "  "
            ]
          },
          "metadata": {},
          "execution_count": 78
        }
      ]
    },
    {
      "cell_type": "code",
      "source": [
        "plot_confusion_matrix(confusion, y_test_bincount, labels, \"MeSH\", fig_size=(10,7))"
      ],
      "metadata": {
        "colab": {
          "base_uri": "https://localhost:8080/",
          "height": 682
        },
        "outputId": "6a82543c-9b53-4cd2-9d54-ec692061647c",
        "id": "rkrx4OfwS69s"
      },
      "execution_count": 79,
      "outputs": [
        {
          "output_type": "display_data",
          "data": {
            "text/plain": [
              "<Figure size 720x504 with 2 Axes>"
            ],
            "image/png": "[encoded data removed]"
          },
          "metadata": {}
        }
      ]
    },
    {
      "cell_type": "code",
      "source": [],
      "metadata": {
        "id": "tXWZuTU2SmaP"
      },
      "execution_count": null,
      "outputs": []
    }
  ]
}
